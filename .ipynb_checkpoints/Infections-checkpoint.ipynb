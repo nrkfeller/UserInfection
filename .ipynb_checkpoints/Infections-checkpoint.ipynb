{
 "cells": [
  {
   "cell_type": "code",
   "execution_count": 21,
   "metadata": {
    "collapsed": true
   },
   "outputs": [],
   "source": [
    "import sqlite3\n",
    "import time\n",
    "import datetime\n",
    "conn = sqlite3.connect('tutorial.db')\n",
    "c = conn.cursor()\n",
    "sql = \"SELECT * FROM stuffToPlot WHERE keyword =?\"\n",
    "\n",
    "wordUsed = \"Python Sentiment\"\n",
    "def tableCreate():\n",
    "    c.execute(\"CREATE TABLE stuffToPlot(ID INT, unix REAL, datestamp TEXT, keyword TEXT, value REAL)\")"
   ]
  },
  {
   "cell_type": "code",
   "execution_count": 15,
   "metadata": {
    "collapsed": false
   },
   "outputs": [],
   "source": [
    "# we need some variables\n",
    "idfordb = 4\n",
    "keyword = \"Python Sentiment\"\n",
    "value = 7\n"
   ]
  },
  {
   "cell_type": "code",
   "execution_count": 16,
   "metadata": {
    "collapsed": true
   },
   "outputs": [],
   "source": [
    "def dataEntry():\n",
    "    date = str(datetime.datetime.fromtimestamp(int(time.time())).strftime('%Y-%m-%d %H:%M:%S'))\n",
    "    c.execute(\"INSERT INTO stuffToPlot (ID, unix, datestamp, keyword, value) VALUES (?,?,?,?,?)\",\n",
    "             (idfordb, time.time(), date, keyword, value))\n",
    "    conn.commit() # Don't forget to commit your data!"
   ]
  },
  {
   "cell_type": "code",
   "execution_count": 18,
   "metadata": {
    "collapsed": false
   },
   "outputs": [],
   "source": [
    "dataEntry()"
   ]
  },
  {
   "cell_type": "code",
   "execution_count": 22,
   "metadata": {
    "collapsed": true
   },
   "outputs": [],
   "source": [
    "def readData():\n",
    "    for row in c.execute(sql, [(wordUsed)]):\n",
    "        print row.replace(')','').replace('(','').replace('u\\'','').replace(\"'\",\"\")"
   ]
  },
  {
   "cell_type": "code",
   "execution_count": 23,
   "metadata": {
    "collapsed": false
   },
   "outputs": [
    {
     "name": "stdout",
     "output_type": "stream",
     "text": [
      "(4, 1446054382.411861, u'2015-10-28 13:46:22', u'Python Sentiment', 7.0)\n"
     ]
    }
   ],
   "source": [
    "readData()"
   ]
  },
  {
   "cell_type": "code",
   "execution_count": null,
   "metadata": {
    "collapsed": true
   },
   "outputs": [],
   "source": []
  }
 ],
 "metadata": {
  "kernelspec": {
   "display_name": "Python 2",
   "language": "python",
   "name": "python2"
  },
  "language_info": {
   "codemirror_mode": {
    "name": "ipython",
    "version": 2
   },
   "file_extension": ".py",
   "mimetype": "text/x-python",
   "name": "python",
   "nbconvert_exporter": "python",
   "pygments_lexer": "ipython2",
   "version": "2.7.10"
  }
 },
 "nbformat": 4,
 "nbformat_minor": 0
}
