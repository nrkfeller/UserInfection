{
 "cells": [
  {
   "cell_type": "code",
   "execution_count": 95,
   "metadata": {
    "collapsed": false
   },
   "outputs": [],
   "source": [
    "from py2neo import Node, Relationship, Path, Rev\n",
    "from py2neo import authenticate, Graph\n",
    "import unicodedata\n",
    "import time\n",
    "import datetime\n",
    "import random\n",
    "import names\n",
    "import matplotlib.pyplot as plt\n",
    "import networkx as nx # visualize cypher query results as python output\n",
    "%matplotlib inline"
   ]
  },
  {
   "cell_type": "code",
   "execution_count": 96,
   "metadata": {
    "collapsed": false
   },
   "outputs": [
    {
     "name": "stdout",
     "output_type": "stream",
     "text": [
      "The cypher extension is already loaded. To reload it, use:\n",
      "  %reload_ext cypher\n"
     ]
    }
   ],
   "source": [
    "%load_ext cypher\n",
    "authenticate(\"localhost:7474\", \"neo4j\", \"neo4j\")\n",
    "graph = Graph(\"http://localhost:7474/db/data/\")\n",
    "cypher = graph.cypher"
   ]
  },
  {
   "cell_type": "code",
   "execution_count": 99,
   "metadata": {
    "collapsed": false
   },
   "outputs": [
    {
     "data": {
      "text/plain": [
       "(<Relationship graph=u'http://localhost:7474/db/data/' ref=u'relationship/9219' start=u'node/233' end=u'node/232' type=u'LOVES' properties={}>,)"
      ]
     },
     "execution_count": 99,
     "metadata": {},
     "output_type": "execute_result"
    }
   ],
   "source": [
    "nicole = Node(\"Person\", name =\"Nicole\")\n",
    "graph.create(nicole)\n",
    "adam = Node(\"Person\", name=\"Adam\")\n",
    "graph.create(adam)\n",
    "graph.create(Relationship(nicole, \"KNOWS\", adam))\n",
    "graph.create(Relationship(adam,\"LOVES\",nicole))"
   ]
  },
  {
   "cell_type": "code",
   "execution_count": 117,
   "metadata": {
    "collapsed": false
   },
   "outputs": [
    {
     "name": "stdout",
     "output_type": "stream",
     "text": [
      "Nicole\n"
     ]
    }
   ],
   "source": [
    "temp = graph.find_one(\"Person\", property_value=2344).properties[\"name\"]\n",
    "temp = unicodedata.normalize('NFKD', temp).encode('ascii','ignore')\n",
    "print temp"
   ]
  },
  {
   "cell_type": "code",
   "execution_count": 116,
   "metadata": {
    "collapsed": false
   },
   "outputs": [
    {
     "ename": "SyntaxError",
     "evalue": "invalid syntax (<ipython-input-116-67bc854e6a53>, line 10)",
     "output_type": "error",
     "traceback": [
      "\u001b[1;36m  File \u001b[1;32m\"<ipython-input-116-67bc854e6a53>\"\u001b[1;36m, line \u001b[1;32m10\u001b[0m\n\u001b[1;33m    \u001b[0m\n\u001b[1;37m    ^\u001b[0m\n\u001b[1;31mSyntaxError\u001b[0m\u001b[1;31m:\u001b[0m invalid syntax\n"
     ]
    }
   ],
   "source": [
    "for i in range(0,20):\n",
    "    newName = names.get_full_name()\n",
    "    newName = unicodedata.normalize('NFKD', newName).encode('ascii','ignore')\n",
    "    newName = Node(\"User\", name = newName)\n",
    "    graph.create(newName)\n",
    "    if (random.randint(0,5) == 0):\n",
    "        temp = graph.find_one(\"Person\", random.randint(0,i).properties[\"name\"]\n",
    "        temp = unicodedata.normalize('NFKD', temp).encode('ascii','ignore')\n",
    "        graph.create(Relationship(newName, \"IS_COACHING\", temp)\n",
    "    "
   ]
  },
  {
   "cell_type": "code",
   "execution_count": 64,
   "metadata": {
    "collapsed": false
   },
   "outputs": [
    {
     "data": {
      "text/plain": [
       "<Node graph=u'http://localhost:7474/db/data/' ref=u'node/2510' labels=set(['Person']) properties={'name': u'Adam'}>"
      ]
     },
     "execution_count": 64,
     "metadata": {},
     "output_type": "execute_result"
    }
   ],
   "source": [
    "graph.node(2510)"
   ]
  },
  {
   "cell_type": "code",
   "execution_count": null,
   "metadata": {
    "collapsed": false
   },
   "outputs": [],
   "source": []
  },
  {
   "cell_type": "code",
   "execution_count": 30,
   "metadata": {
    "collapsed": false
   },
   "outputs": [
    {
     "data": {
      "text/plain": [
       "<Node graph=u'http://localhost:7474/db/data/' ref=u'node/2510' labels=set(['Person']) properties={'name': u'Adam'}>"
      ]
     },
     "execution_count": 30,
     "metadata": {},
     "output_type": "execute_result"
    }
   ],
   "source": [
    "graph.node(2510)"
   ]
  },
  {
   "cell_type": "code",
   "execution_count": 31,
   "metadata": {
    "collapsed": false
   },
   "outputs": [
    {
     "data": {
      "text/plain": [
       "<Relationship graph=u'http://localhost:7474/db/data/' ref=u'relationship/8803' start=u'node/2509' end=u'node/2510' type=u'KNOWS' properties={}>"
      ]
     },
     "execution_count": 31,
     "metadata": {},
     "output_type": "execute_result"
    }
   ],
   "source": [
    "graph.relationship(8803)"
   ]
  },
  {
   "cell_type": "code",
   "execution_count": 65,
   "metadata": {
    "collapsed": false
   },
   "outputs": [
    {
     "data": {
      "text/plain": [
       "0"
      ]
     },
     "execution_count": 65,
     "metadata": {},
     "output_type": "execute_result"
    }
   ],
   "source": [
    "graph.size # number of relationships"
   ]
  },
  {
   "cell_type": "code",
   "execution_count": 66,
   "metadata": {
    "collapsed": false
   },
   "outputs": [
    {
     "data": {
      "text/plain": [
       "10"
      ]
     },
     "execution_count": 66,
     "metadata": {},
     "output_type": "execute_result"
    }
   ],
   "source": [
    "graph.order # number of nodes"
   ]
  },
  {
   "cell_type": "code",
   "execution_count": 67,
   "metadata": {
    "collapsed": false
   },
   "outputs": [
    {
     "data": {
      "text/plain": [
       "<generator object find at 0x7fbb733fb460>"
      ]
     },
     "execution_count": 67,
     "metadata": {},
     "output_type": "execute_result"
    }
   ],
   "source": [
    "graph.find('name','John', limit=None)"
   ]
  },
  {
   "cell_type": "code",
   "execution_count": 68,
   "metadata": {
    "collapsed": false
   },
   "outputs": [
    {
     "data": {
      "text/plain": [
       "<generator object merge at 0x7fbb733fb8c0>"
      ]
     },
     "execution_count": 68,
     "metadata": {},
     "output_type": "execute_result"
    }
   ],
   "source": [
    "graph.merge('name', property_value='Bob Johnson')"
   ]
  },
  {
   "cell_type": "code",
   "execution_count": 82,
   "metadata": {
    "collapsed": false
   },
   "outputs": [
    {
     "name": "stdout",
     "output_type": "stream",
     "text": [
      "None\n"
     ]
    }
   ],
   "source": [
    "print graph.find_one('id',property_value=random.randint(0,10))"
   ]
  },
  {
   "cell_type": "code",
   "execution_count": 4,
   "metadata": {
    "collapsed": false
   },
   "outputs": [],
   "source": [
    "#cypher.execute(\"CREATE (:Movie { (title:{tit} released:{rel})\", tit=\"Green Mile\", rel ='2000')"
   ]
  },
  {
   "cell_type": "code",
   "execution_count": 8,
   "metadata": {
    "collapsed": false
   },
   "outputs": [
    {
     "data": {
      "text/plain": []
     },
     "execution_count": 8,
     "metadata": {},
     "output_type": "execute_result"
    }
   ],
   "source": [
    "cypher.execute(\"CREATE (:Cinema {name:{a},released:{b}} )\", a=\"Signs\", b=2003)"
   ]
  },
  {
   "cell_type": "code",
   "execution_count": 34,
   "metadata": {
    "collapsed": false
   },
   "outputs": [
    {
     "name": "stdout",
     "output_type": "stream",
     "text": [
      "(n175:Cinema {name:\"Signs\",released:2003})\n"
     ]
    }
   ],
   "source": [
    "print graph.find_one(\"Cinema\", property_key='released', property_value=2003)"
   ]
  },
  {
   "cell_type": "code",
   "execution_count": 49,
   "metadata": {
    "collapsed": false
   },
   "outputs": [
    {
     "name": "stdout",
     "output_type": "stream",
     "text": [
      "None\n"
     ]
    }
   ],
   "source": [
    "print graph.find_one(\"Cinema\", property_value=176)"
   ]
  },
  {
   "cell_type": "code",
   "execution_count": 60,
   "metadata": {
    "collapsed": false
   },
   "outputs": [
    {
     "name": "stdout",
     "output_type": "stream",
     "text": [
      "(n203:User {name:\"Kelly Schilling\"})\n"
     ]
    }
   ],
   "source": [
    "obj = graph.find_one(\"User\", property_value=213)\n",
    "print obj"
   ]
  },
  {
   "cell_type": "code",
   "execution_count": 59,
   "metadata": {
    "collapsed": false
   },
   "outputs": [
    {
     "name": "stdout",
     "output_type": "stream",
     "text": [
      "None\n"
     ]
    }
   ],
   "source": [
    "graph.pull(obj)"
   ]
  },
  {
   "cell_type": "code",
   "execution_count": 61,
   "metadata": {
    "collapsed": true
   },
   "outputs": [],
   "source": [
    "from py2neo import Node, Path, Rev"
   ]
  },
  {
   "cell_type": "code",
   "execution_count": 77,
   "metadata": {
    "collapsed": false
   },
   "outputs": [
    {
     "data": {
      "text/plain": [
       "(<Node graph=u'http://localhost:7474/db/data/' ref=u'node/223' labels=set([]) properties={'name': u'Alice'}>,\n",
       " <Node graph=u'http://localhost:7474/db/data/' ref=u'node/224' labels=set([]) properties={'name': u'Bob'}>,\n",
       " <Node graph=u'http://localhost:7474/db/data/' ref=u'node/225' labels=set([]) properties={'name': u'Carol'}>)"
      ]
     },
     "execution_count": 77,
     "metadata": {},
     "output_type": "execute_result"
    }
   ],
   "source": [
    "alice, bob, carol = Node(name=\"Alice\"), Node(name=\"Bob\"), Node(name=\"Carol\")\n",
    "graph.create(alice, bob, carol)"
   ]
  },
  {
   "cell_type": "code",
   "execution_count": 63,
   "metadata": {
    "collapsed": true
   },
   "outputs": [],
   "source": [
    "abc = Path(alice, \"KNOWS\", bob, Rev(\"KNOWS\"), carol)"
   ]
  },
  {
   "cell_type": "code",
   "execution_count": 64,
   "metadata": {
    "collapsed": false
   },
   "outputs": [
    {
     "data": {
      "text/plain": [
       "<Path order=3 size=2>"
      ]
     },
     "execution_count": 64,
     "metadata": {},
     "output_type": "execute_result"
    }
   ],
   "source": [
    "abc"
   ]
  },
  {
   "cell_type": "code",
   "execution_count": 69,
   "metadata": {
    "collapsed": false
   },
   "outputs": [
    {
     "data": {
      "text/plain": [
       "(<Node labels=set([]) properties={'name': u'Alice'}>,\n",
       " <Node labels=set([]) properties={'name': u'Bob'}>,\n",
       " <Node labels=set([]) properties={'name': u'Carol'}>)"
      ]
     },
     "execution_count": 69,
     "metadata": {},
     "output_type": "execute_result"
    }
   ],
   "source": [
    "abc.nodes"
   ]
  },
  {
   "cell_type": "code",
   "execution_count": 66,
   "metadata": {
    "collapsed": false
   },
   "outputs": [
    {
     "data": {
      "text/plain": [
       "(<Rel type=u'KNOWS' properties={}>, <Rev type='KNOWS' properties={}>)"
      ]
     },
     "execution_count": 66,
     "metadata": {},
     "output_type": "execute_result"
    }
   ],
   "source": [
    "abc.rels"
   ]
  },
  {
   "cell_type": "code",
   "execution_count": 73,
   "metadata": {
    "collapsed": false
   },
   "outputs": [
    {
     "data": {
      "text/plain": [
       "<Path order=2 size=1>"
      ]
     },
     "execution_count": 73,
     "metadata": {},
     "output_type": "execute_result"
    }
   ],
   "source": [
    "dave, eve = Node(name=\"Dave\"), Node(name=\"Eve\")\n",
    "de = Path(dave, \"KNOWS\", eve)\n",
    "de"
   ]
  },
  {
   "cell_type": "code",
   "execution_count": 74,
   "metadata": {
    "collapsed": false
   },
   "outputs": [
    {
     "data": {
      "text/plain": [
       "<Path order=5 size=4>"
      ]
     },
     "execution_count": 74,
     "metadata": {},
     "output_type": "execute_result"
    }
   ],
   "source": [
    "abcde = Path(abc, \"KNOWS\", de)\n",
    "abcde"
   ]
  },
  {
   "cell_type": "code",
   "execution_count": 76,
   "metadata": {
    "collapsed": false
   },
   "outputs": [
    {
     "name": "stdout",
     "output_type": "stream",
     "text": [
      "({name:\"Alice\"})-[:KNOWS]->({name:\"Bob\"})\n",
      "({name:\"Carol\"})-[:KNOWS]->({name:\"Bob\"})\n",
      "({name:\"Carol\"})-[:KNOWS]->({name:\"Dave\"})\n",
      "({name:\"Dave\"})-[:KNOWS]->({name:\"Eve\"})\n"
     ]
    }
   ],
   "source": [
    "for relationship in abcde.relationships:\n",
    "    print(relationship)"
   ]
  },
  {
   "cell_type": "code",
   "execution_count": 84,
   "metadata": {
    "collapsed": false
   },
   "outputs": [
    {
     "data": {
      "text/plain": [
       "u'Alice'"
      ]
     },
     "execution_count": 84,
     "metadata": {},
     "output_type": "execute_result"
    }
   ],
   "source": [
    "alice.properties[\"name\"]"
   ]
  },
  {
   "cell_type": "code",
   "execution_count": 85,
   "metadata": {
    "collapsed": false
   },
   "outputs": [
    {
     "data": {
      "text/plain": [
       "set()"
      ]
     },
     "execution_count": 85,
     "metadata": {},
     "output_type": "execute_result"
    }
   ],
   "source": [
    "alice.labels"
   ]
  },
  {
   "cell_type": "code",
   "execution_count": 111,
   "metadata": {
    "collapsed": false
   },
   "outputs": [
    {
     "data": {
      "text/plain": [
       "unicode"
      ]
     },
     "execution_count": 111,
     "metadata": {},
     "output_type": "execute_result"
    }
   ],
   "source": [
    "type(graph.find_one(\"Person\", property_value=2344).properties[\"name\"])"
   ]
  },
  {
   "cell_type": "code",
   "execution_count": null,
   "metadata": {
    "collapsed": true
   },
   "outputs": [],
   "source": []
  }
 ],
 "metadata": {
  "kernelspec": {
   "display_name": "Python 2",
   "language": "python",
   "name": "python2"
  },
  "language_info": {
   "codemirror_mode": {
    "name": "ipython",
    "version": 2
   },
   "file_extension": ".py",
   "mimetype": "text/x-python",
   "name": "python",
   "nbconvert_exporter": "python",
   "pygments_lexer": "ipython2",
   "version": "2.7.10"
  }
 },
 "nbformat": 4,
 "nbformat_minor": 0
}
