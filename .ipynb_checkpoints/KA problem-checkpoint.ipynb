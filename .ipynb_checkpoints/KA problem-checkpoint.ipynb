{
 "cells": [
  {
   "cell_type": "code",
   "execution_count": 28,
   "metadata": {
    "collapsed": true
   },
   "outputs": [],
   "source": [
    "from py2neo import Node, Relationship, Path, Rev\n",
    "from py2neo import authenticate, Graph\n",
    "import unicodedata\n",
    "import time\n",
    "import datetime\n",
    "import random\n",
    "import names\n",
    "import matplotlib.pyplot as plt\n",
    "import networkx as nx # visualize cypher query results as python output\n",
    "%matplotlib inline"
   ]
  },
  {
   "cell_type": "code",
   "execution_count": 2,
   "metadata": {
    "collapsed": false
   },
   "outputs": [],
   "source": [
    "%load_ext cypher\n",
    "authenticate(\"localhost:7474\", \"neo4j\", \"neo4j\")\n",
    "graph = Graph(\"http://localhost:7474/db/data/\")\n",
    "cypher = graph.cypher"
   ]
  },
  {
   "cell_type": "code",
   "execution_count": null,
   "metadata": {
    "collapsed": false
   },
   "outputs": [],
   "source": []
  },
  {
   "cell_type": "code",
   "execution_count": 102,
   "metadata": {
    "collapsed": false
   },
   "outputs": [],
   "source": [
    "class User:\n",
    "    \n",
    "    # Initializer\n",
    "    def __init__(self):\n",
    "        \n",
    "        # Give user a full name. Generated randomly\n",
    "        self.name = names.get_full_name() \n",
    "        \n",
    "        # Current base version of the website\n",
    "        self.khanAcademyVersion = 'A'\n",
    "        \n",
    "        # Number of loggins\n",
    "        self.id = 0\n",
    "        \n",
    "        ######################DATABASE#######################\n",
    "        \n",
    "        # Save this user as a node in the graph database\n",
    "        self.databaseNode = Node(\"UserA\", name = self.name, khanAcademyVersion = self.khanAcademyVersion, id = self.id)\n",
    "        graph.create(self.databaseNode)\n",
    "        \n",
    "        \n",
    "    # Class method for user infection    \n",
    "    def infect(self):\n",
    "        \n",
    "        # Deploys new version of Khan Academy to this user\n",
    "        self.khanAcademyVersion = 'B'\n",
    "        \n",
    "        ######################DATABASE#######################\n",
    "        \n",
    "        # save all relationships, ingoing and outgoing of this node\n",
    "        incomingRel = self.databaseNode.match_incoming(rel_type=\"IS_COACHING\")\n",
    "        outgoingRel = self.databaseNode.match_outgoing(rel_type=\"IS_COACHING\")\n",
    "        \n",
    "        # create a node that is of typer UserN\n",
    "        self.databaseNode = Node(\"UserB\", name = self.name, khanAcademyVersion = self.khanAcademyVersion, id = self.id)\n",
    "        graph.create(self.databaseNode)     \n",
    "        \n",
    "        # Build the same relationships as the UserA node\n",
    "        for r in incomingRel:\n",
    "            startNode = r.start_node\n",
    "            graph.create(Relationship(startNode, \"IS_COACHING\", self.databaseNode))\n",
    "        for r in outgoingRel:\n",
    "            endNode = r.end_node\n",
    "            graph.create(Relationship(self.databaseNode, \"IS_COACHING\", endNode))\n",
    "        \n",
    "        \n",
    "        # Delete the old node\n",
    "        cypher.execute(\"MATCH (u :UserA {khanAcademyVersion: {khanAcademyVersion}, name: {name}})-[r]-() DELETE r\", khanAcademyVersion = 'A', name = self.name)\n",
    "        cypher.execute(\"MATCH n WHERE (n.khanAcademyVersion = {khanAcademyVersion} AND n.name = {name}) DELETE n\", khanAcademyVersion = 'A', name = self.name)\n",
    "        \n",
    "        "
   ]
  },
  {
   "cell_type": "code",
   "execution_count": null,
   "metadata": {
    "collapsed": false
   },
   "outputs": [],
   "source": [
    "def total_infection():\n",
    "    # grab all values\n",
    "    # infect one by one to UserB\n",
    "    \n",
    "def partial_infection(input):\n",
    "    # makes a knapsack problem with targeted input, while saving hash of values\n",
    "    # if fails return, impossible to infect that exact amount of nodes. offer an alternative.\n",
    "    # iterate upways invalue and prompt user for infection\n",
    "    # if number is reached infect each in given hash"
   ]
  },
  {
   "cell_type": "code",
   "execution_count": 106,
   "metadata": {
    "collapsed": false
   },
   "outputs": [
    {
     "name": "stdout",
     "output_type": "stream",
     "text": [
      "(n2204:UserA {id:0,khanAcademyVersion:\"A\",name:\"Rafael Hock\"})\n",
      "(n2205:UserA {id:0,khanAcademyVersion:\"A\",name:\"Jennifer Kalar\"})\n",
      "-----------------------\n",
      "(n2205:UserA {id:0,khanAcademyVersion:\"A\",name:\"Jennifer Kalar\"})\n"
     ]
    }
   ],
   "source": [
    "incomingRel = firstuser.databaseNode.match_incoming(rel_type=\"IS_COACHING\")\n",
    "\n",
    "\n",
    "outgoingRel = firstuser.databaseNode.match_outgoing(rel_type=\"IS_COACHING\")\n",
    "\n",
    "\n",
    "\n",
    "for r in incomingRel:\n",
    "    startNode = r.start_node\n",
    "    print startNode\n",
    "    \n",
    "print '-----------------------'\n",
    "for r in outgoingRel:\n",
    "    endNode = r.end_node\n",
    "    print endNode"
   ]
  },
  {
   "cell_type": "code",
   "execution_count": 107,
   "metadata": {
    "collapsed": false
   },
   "outputs": [
    {
     "data": {
      "text/plain": [
       "u'Thomas Clark'"
      ]
     },
     "execution_count": 107,
     "metadata": {},
     "output_type": "execute_result"
    }
   ],
   "source": [
    "firstuser.databaseNode.properties['name']"
   ]
  },
  {
   "cell_type": "code",
   "execution_count": 110,
   "metadata": {
    "collapsed": false
   },
   "outputs": [
    {
     "name": "stdout",
     "output_type": "stream",
     "text": [
      "outgoing rel to\n",
      "Rafael Hock\n",
      "outgoing rel to\n",
      "Thomas Clark\n"
     ]
    },
    {
     "data": {
      "text/plain": [
       "u'B'"
      ]
     },
     "execution_count": 110,
     "metadata": {},
     "output_type": "execute_result"
    }
   ],
   "source": [
    "thirduser.infect()\n",
    "firstuser.databaseNode.properties['khanAcademyVersion']"
   ]
  },
  {
   "cell_type": "code",
   "execution_count": 103,
   "metadata": {
    "collapsed": false
   },
   "outputs": [],
   "source": [
    "firstuser = User()\n",
    "seconduser = User()\n",
    "thirduser = User()"
   ]
  },
  {
   "cell_type": "code",
   "execution_count": 104,
   "metadata": {
    "collapsed": false
   },
   "outputs": [
    {
     "name": "stdout",
     "output_type": "stream",
     "text": [
      "Thomas Clark\n",
      "Rafael Hock\n",
      "Jennifer Kalar\n"
     ]
    }
   ],
   "source": [
    "print firstuser.name\n",
    "print seconduser.name\n",
    "print thirduser.name"
   ]
  },
  {
   "cell_type": "code",
   "execution_count": 105,
   "metadata": {
    "collapsed": false
   },
   "outputs": [
    {
     "data": {
      "text/plain": [
       "(<Relationship graph=u'http://localhost:7474/db/data/' ref=u'relationship/7470' start=u'node/2203' end=u'node/2205' type=u'IS_COACHING' properties={}>,)"
      ]
     },
     "execution_count": 105,
     "metadata": {},
     "output_type": "execute_result"
    }
   ],
   "source": [
    "graph.create(Relationship(thirduser.databaseNode, \"IS_COACHING\", firstuser.databaseNode))\n",
    "graph.create(Relationship(seconduser.databaseNode, \"IS_COACHING\", firstuser.databaseNode))\n",
    "graph.create(Relationship(thirduser.databaseNode, \"IS_COACHING\", seconduser.databaseNode))\n",
    "graph.create(Relationship(firstuser.databaseNode, \"IS_COACHING\", thirduser.databaseNode))"
   ]
  },
  {
   "cell_type": "code",
   "execution_count": 20,
   "metadata": {
    "collapsed": false
   },
   "outputs": [],
   "source": [
    "firstuser.infect()"
   ]
  },
  {
   "cell_type": "code",
   "execution_count": 111,
   "metadata": {
    "collapsed": false
   },
   "outputs": [
    {
     "ename": "ValueError",
     "evalue": "Relationship with ID 8417 not found",
     "output_type": "error",
     "traceback": [
      "\u001b[1;31m---------------------------------------------------------------------------\u001b[0m",
      "\u001b[1;31mValueError\u001b[0m                                Traceback (most recent call last)",
      "\u001b[1;32m<ipython-input-111-f080cd7bf0b3>\u001b[0m in \u001b[0;36m<module>\u001b[1;34m()\u001b[0m\n\u001b[1;32m----> 1\u001b[1;33m \u001b[0mgraph\u001b[0m\u001b[1;33m.\u001b[0m\u001b[0mrelationship\u001b[0m\u001b[1;33m(\u001b[0m\u001b[1;36m8417\u001b[0m\u001b[1;33m)\u001b[0m\u001b[1;33m\u001b[0m\u001b[0m\n\u001b[0m",
      "\u001b[1;32m/home/efelnic/anaconda/lib/python2.7/site-packages/py2neo/core.pyc\u001b[0m in \u001b[0;36mrelationship\u001b[1;34m(self, id_)\u001b[0m\n\u001b[0;32m   1031\u001b[0m             \u001b[1;32mexcept\u001b[0m \u001b[0mGraphError\u001b[0m \u001b[1;32mas\u001b[0m \u001b[0merror\u001b[0m\u001b[1;33m:\u001b[0m\u001b[1;33m\u001b[0m\u001b[0m\n\u001b[0;32m   1032\u001b[0m                 \u001b[1;32mif\u001b[0m \u001b[0merror\u001b[0m\u001b[1;33m.\u001b[0m\u001b[0mexception\u001b[0m \u001b[1;33m==\u001b[0m \u001b[1;34m\"RelationshipNotFoundException\"\u001b[0m\u001b[1;33m:\u001b[0m\u001b[1;33m\u001b[0m\u001b[0m\n\u001b[1;32m-> 1033\u001b[1;33m                     \u001b[1;32mraise\u001b[0m \u001b[0mValueError\u001b[0m\u001b[1;33m(\u001b[0m\u001b[1;34m\"Relationship with ID %s not found\"\u001b[0m \u001b[1;33m%\u001b[0m \u001b[0mid_\u001b[0m\u001b[1;33m)\u001b[0m\u001b[1;33m\u001b[0m\u001b[0m\n\u001b[0m\u001b[0;32m   1034\u001b[0m                 \u001b[1;32melse\u001b[0m\u001b[1;33m:\u001b[0m\u001b[1;33m\u001b[0m\u001b[0m\n\u001b[0;32m   1035\u001b[0m                     \u001b[1;32mraise\u001b[0m\u001b[1;33m\u001b[0m\u001b[0m\n",
      "\u001b[1;31mValueError\u001b[0m: Relationship with ID 8417 not found"
     ]
    }
   ],
   "source": [
    "graph.relationship(8417)"
   ]
  },
  {
   "cell_type": "code",
   "execution_count": 86,
   "metadata": {
    "collapsed": false
   },
   "outputs": [
    {
     "data": {
      "text/plain": [
       "1"
      ]
     },
     "execution_count": 86,
     "metadata": {},
     "output_type": "execute_result"
    }
   ],
   "source": [
    "firstuser.databaseNode.degree"
   ]
  },
  {
   "cell_type": "code",
   "execution_count": null,
   "metadata": {
    "collapsed": false
   },
   "outputs": [],
   "source": []
  },
  {
   "cell_type": "code",
   "execution_count": null,
   "metadata": {
    "collapsed": false
   },
   "outputs": [],
   "source": []
  },
  {
   "cell_type": "code",
   "execution_count": null,
   "metadata": {
    "collapsed": false
   },
   "outputs": [],
   "source": []
  },
  {
   "cell_type": "code",
   "execution_count": null,
   "metadata": {
    "collapsed": false
   },
   "outputs": [],
   "source": []
  },
  {
   "cell_type": "code",
   "execution_count": null,
   "metadata": {
    "collapsed": true
   },
   "outputs": [],
   "source": []
  },
  {
   "cell_type": "code",
   "execution_count": 112,
   "metadata": {
    "collapsed": false
   },
   "outputs": [
    {
     "name": "stdout",
     "output_type": "stream",
     "text": [
      " n                                                              \n",
      "-----------------------------------------------------------------\n",
      " (n2206:UserB {id:0,khanAcademyVersion:\"B\",name:\"Thomas Clark\"})\n",
      "\n",
      " n                                                             \n",
      "----------------------------------------------------------------\n",
      " (n2207:UserB {id:0,khanAcademyVersion:\"B\",name:\"Rafael Hock\"})\n",
      "\n",
      " n                                                                \n",
      "-------------------------------------------------------------------\n",
      " (n2208:UserB {id:0,khanAcademyVersion:\"B\",name:\"Jennifer Kalar\"})\n",
      "\n"
     ]
    }
   ],
   "source": [
    "res = graph.cypher.execute(\"MATCH (n) WHERE size((n)--()) > 0 RETURN n\");\n",
    "for r in res:\n",
    "    print r"
   ]
  },
  {
   "cell_type": "code",
   "execution_count": 113,
   "metadata": {
    "collapsed": false
   },
   "outputs": [
    {
     "data": {
      "text/plain": [
       "   | n                                                                \n",
       "---+-------------------------------------------------------------------\n",
       " 1 | (n2206:UserB {id:0,khanAcademyVersion:\"B\",name:\"Thomas Clark\"})  \n",
       " 2 | (n2207:UserB {id:0,khanAcademyVersion:\"B\",name:\"Rafael Hock\"})   \n",
       " 3 | (n2208:UserB {id:0,khanAcademyVersion:\"B\",name:\"Jennifer Kalar\"})"
      ]
     },
     "execution_count": 113,
     "metadata": {},
     "output_type": "execute_result"
    }
   ],
   "source": [
    "res = graph.cypher.execute(\"MATCH (n)--() RETURN DISTINCT n\");\n",
    "res"
   ]
  },
  {
   "cell_type": "code",
   "execution_count": null,
   "metadata": {
    "collapsed": false
   },
   "outputs": [],
   "source": []
  },
  {
   "cell_type": "code",
   "execution_count": null,
   "metadata": {
    "collapsed": false
   },
   "outputs": [],
   "source": []
  },
  {
   "cell_type": "code",
   "execution_count": null,
   "metadata": {
    "collapsed": true
   },
   "outputs": [],
   "source": []
  }
 ],
 "metadata": {
  "kernelspec": {
   "display_name": "Python 2",
   "language": "python",
   "name": "python2"
  },
  "language_info": {
   "codemirror_mode": {
    "name": "ipython",
    "version": 2
   },
   "file_extension": ".py",
   "mimetype": "text/x-python",
   "name": "python",
   "nbconvert_exporter": "python",
   "pygments_lexer": "ipython2",
   "version": "2.7.10"
  }
 },
 "nbformat": 4,
 "nbformat_minor": 0
}
